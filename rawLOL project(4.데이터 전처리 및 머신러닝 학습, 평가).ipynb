{
 "cells": [
  {
   "cell_type": "markdown",
   "metadata": {},
   "source": [
    "# 필요한 라이브러리 및 데이터셋 업로드\n"
   ]
  },
  {
   "cell_type": "code",
   "execution_count": 385,
   "metadata": {},
   "outputs": [],
   "source": [
    "import numpy as np\n",
    "import pandas as pd\n",
    "import pickle\n",
    "\n",
    "import matplotlib\n",
    "import matplotlib.pyplot as plt\n",
    "import seaborn as sns"
   ]
  },
  {
   "cell_type": "code",
   "execution_count": 386,
   "metadata": {},
   "outputs": [],
   "source": [
    "winner_df =  pd.read_pickle('rawData/match_winner_data_version1.pickle')\n",
    "loser_df = pd.read_pickle('rawData/match_loser_data_version1.pickle')"
   ]
  },
  {
   "cell_type": "code",
   "execution_count": 387,
   "metadata": {},
   "outputs": [
    {
     "name": "stdout",
     "output_type": "stream",
     "text": [
      "<class 'pandas.core.frame.DataFrame'>\n",
      "RangeIndex: 217658 entries, 0 to 217657\n",
      "Data columns (total 17 columns):\n",
      " #   Column                Non-Null Count   Dtype  \n",
      "---  ------                --------------   -----  \n",
      " 0   teamId                217658 non-null  int64  \n",
      " 1   win                   217646 non-null  object \n",
      " 2   firstBlood            217658 non-null  bool   \n",
      " 3   firstTower            217658 non-null  bool   \n",
      " 4   firstInhibitor        217658 non-null  bool   \n",
      " 5   firstBaron            217658 non-null  bool   \n",
      " 6   firstDragon           217658 non-null  bool   \n",
      " 7   firstRiftHerald       217658 non-null  bool   \n",
      " 8   towerKills            217658 non-null  int64  \n",
      " 9   inhibitorKills        217658 non-null  int64  \n",
      " 10  baronKills            217658 non-null  int64  \n",
      " 11  dragonKills           217658 non-null  int64  \n",
      " 12  vilemawKills          217658 non-null  int64  \n",
      " 13  riftHeraldKills       217658 non-null  int64  \n",
      " 14  dominionVictoryScore  217658 non-null  int64  \n",
      " 15  bans                  217658 non-null  object \n",
      " 16  gameId                217658 non-null  float64\n",
      "dtypes: bool(6), float64(1), int64(8), object(2)\n",
      "memory usage: 19.5+ MB\n"
     ]
    }
   ],
   "source": [
    "# 승자와 패자 데이터 합치기\n",
    "data = pd.concat([winner_df, loser_df], ignore_index=True)\n",
    "data.info()\n",
    "\n",
    "# win 데이터만 217646개로, 12개의 null값이 있는 걸 확인할 수 있다."
   ]
  },
  {
   "cell_type": "code",
   "execution_count": 388,
   "metadata": {},
   "outputs": [],
   "source": [
    "# 필요없는 열 제거\n",
    "data.drop(['teamId', 'dominionVictoryScore', 'bans', 'gameId', 'vilemawKills'], axis=1, inplace=True)"
   ]
  },
  {
   "cell_type": "code",
   "execution_count": 389,
   "metadata": {},
   "outputs": [],
   "source": [
    "# Fail을 Lose로 바꾸기\n",
    "# data = data.replace({'win': {'Fail': 'Lose'}})"
   ]
  },
  {
   "cell_type": "code",
   "execution_count": 390,
   "metadata": {},
   "outputs": [],
   "source": [
    "# 이상치 제거 (억제기 6번 이상 파괴)\n",
    "data.drop(data.loc[data['inhibitorKills'] > 3].index, inplace=True)\n",
    "winner_df.drop(winner_df.loc[winner_df['inhibitorKills'] > 3].index, inplace=True)\n",
    "loser_df.drop(loser_df.loc[loser_df['inhibitorKills'] > 3].index, inplace=True)"
   ]
  },
  {
   "cell_type": "code",
   "execution_count": 391,
   "metadata": {},
   "outputs": [],
   "source": [
    "# 타워 (타워 6번 이상 파괴)\n",
    "data.drop(data.loc[data['towerKills'] > 4].index, inplace=True)\n",
    "winner_df.drop(winner_df.loc[winner_df['towerKills'] > 4].index, inplace=True)\n",
    "loser_df.drop(loser_df.loc[loser_df['towerKills'] > 4].index, inplace=True)"
   ]
  },
  {
   "cell_type": "code",
   "execution_count": 392,
   "metadata": {},
   "outputs": [
    {
     "data": {
      "text/html": [
       "<div>\n",
       "<style scoped>\n",
       "    .dataframe tbody tr th:only-of-type {\n",
       "        vertical-align: middle;\n",
       "    }\n",
       "\n",
       "    .dataframe tbody tr th {\n",
       "        vertical-align: top;\n",
       "    }\n",
       "\n",
       "    .dataframe thead th {\n",
       "        text-align: right;\n",
       "    }\n",
       "</style>\n",
       "<table border=\"1\" class=\"dataframe\">\n",
       "  <thead>\n",
       "    <tr style=\"text-align: right;\">\n",
       "      <th></th>\n",
       "      <th>win</th>\n",
       "      <th>firstBlood</th>\n",
       "      <th>firstTower</th>\n",
       "      <th>firstInhibitor</th>\n",
       "      <th>firstBaron</th>\n",
       "      <th>firstDragon</th>\n",
       "      <th>firstRiftHerald</th>\n",
       "      <th>towerKills</th>\n",
       "      <th>inhibitorKills</th>\n",
       "      <th>baronKills</th>\n",
       "      <th>dragonKills</th>\n",
       "      <th>riftHeraldKills</th>\n",
       "    </tr>\n",
       "  </thead>\n",
       "  <tbody>\n",
       "    <tr>\n",
       "      <th>1</th>\n",
       "      <td>Win</td>\n",
       "      <td>False</td>\n",
       "      <td>False</td>\n",
       "      <td>False</td>\n",
       "      <td>False</td>\n",
       "      <td>True</td>\n",
       "      <td>True</td>\n",
       "      <td>4</td>\n",
       "      <td>0</td>\n",
       "      <td>0</td>\n",
       "      <td>2</td>\n",
       "      <td>2</td>\n",
       "    </tr>\n",
       "    <tr>\n",
       "      <th>9</th>\n",
       "      <td>Win</td>\n",
       "      <td>False</td>\n",
       "      <td>True</td>\n",
       "      <td>False</td>\n",
       "      <td>False</td>\n",
       "      <td>True</td>\n",
       "      <td>True</td>\n",
       "      <td>4</td>\n",
       "      <td>0</td>\n",
       "      <td>0</td>\n",
       "      <td>1</td>\n",
       "      <td>2</td>\n",
       "    </tr>\n",
       "    <tr>\n",
       "      <th>10</th>\n",
       "      <td>Win</td>\n",
       "      <td>False</td>\n",
       "      <td>False</td>\n",
       "      <td>False</td>\n",
       "      <td>False</td>\n",
       "      <td>False</td>\n",
       "      <td>False</td>\n",
       "      <td>0</td>\n",
       "      <td>0</td>\n",
       "      <td>0</td>\n",
       "      <td>0</td>\n",
       "      <td>0</td>\n",
       "    </tr>\n",
       "    <tr>\n",
       "      <th>13</th>\n",
       "      <td>Win</td>\n",
       "      <td>False</td>\n",
       "      <td>False</td>\n",
       "      <td>False</td>\n",
       "      <td>False</td>\n",
       "      <td>True</td>\n",
       "      <td>False</td>\n",
       "      <td>2</td>\n",
       "      <td>0</td>\n",
       "      <td>0</td>\n",
       "      <td>3</td>\n",
       "      <td>0</td>\n",
       "    </tr>\n",
       "    <tr>\n",
       "      <th>18</th>\n",
       "      <td>Win</td>\n",
       "      <td>True</td>\n",
       "      <td>False</td>\n",
       "      <td>False</td>\n",
       "      <td>False</td>\n",
       "      <td>True</td>\n",
       "      <td>False</td>\n",
       "      <td>1</td>\n",
       "      <td>0</td>\n",
       "      <td>0</td>\n",
       "      <td>2</td>\n",
       "      <td>0</td>\n",
       "    </tr>\n",
       "  </tbody>\n",
       "</table>\n",
       "</div>"
      ],
      "text/plain": [
       "    win  firstBlood  firstTower  firstInhibitor  firstBaron  firstDragon  \\\n",
       "1   Win       False       False           False       False         True   \n",
       "9   Win       False        True           False       False         True   \n",
       "10  Win       False       False           False       False        False   \n",
       "13  Win       False       False           False       False         True   \n",
       "18  Win        True       False           False       False         True   \n",
       "\n",
       "    firstRiftHerald  towerKills  inhibitorKills  baronKills  dragonKills  \\\n",
       "1              True           4               0           0            2   \n",
       "9              True           4               0           0            1   \n",
       "10            False           0               0           0            0   \n",
       "13            False           2               0           0            3   \n",
       "18            False           1               0           0            2   \n",
       "\n",
       "    riftHeraldKills  \n",
       "1                 2  \n",
       "9                 2  \n",
       "10                0  \n",
       "13                0  \n",
       "18                0  "
      ]
     },
     "execution_count": 392,
     "metadata": {},
     "output_type": "execute_result"
    }
   ],
   "source": [
    "data.head()"
   ]
  },
  {
   "cell_type": "markdown",
   "metadata": {},
   "source": [
    "# 데이터셋 전처리"
   ]
  },
  {
   "cell_type": "markdown",
   "metadata": {},
   "source": [
    "## null 값 확인 및 제거"
   ]
  },
  {
   "cell_type": "code",
   "execution_count": 393,
   "metadata": {},
   "outputs": [
    {
     "name": "stdout",
     "output_type": "stream",
     "text": [
      "<class 'pandas.core.frame.DataFrame'>\n",
      "Int64Index: 128122 entries, 1 to 217657\n",
      "Data columns (total 12 columns):\n",
      " #   Column           Non-Null Count   Dtype \n",
      "---  ------           --------------   ----- \n",
      " 0   win              128122 non-null  object\n",
      " 1   firstBlood       128122 non-null  bool  \n",
      " 2   firstTower       128122 non-null  bool  \n",
      " 3   firstInhibitor   128122 non-null  bool  \n",
      " 4   firstBaron       128122 non-null  bool  \n",
      " 5   firstDragon      128122 non-null  bool  \n",
      " 6   firstRiftHerald  128122 non-null  bool  \n",
      " 7   towerKills       128122 non-null  int64 \n",
      " 8   inhibitorKills   128122 non-null  int64 \n",
      " 9   baronKills       128122 non-null  int64 \n",
      " 10  dragonKills      128122 non-null  int64 \n",
      " 11  riftHeraldKills  128122 non-null  int64 \n",
      "dtypes: bool(6), int64(5), object(1)\n",
      "memory usage: 7.6+ MB\n"
     ]
    }
   ],
   "source": [
    "# 217658개중 null값이 있는 데이터는 12개로 적으니 제거하는 방법을 선택합니다.\n",
    "data = data.dropna(axis=0)\n",
    "data.info()"
   ]
  },
  {
   "cell_type": "markdown",
   "metadata": {},
   "source": [
    "## 범주형 데이터 처리"
   ]
  },
  {
   "cell_type": "code",
   "execution_count": 394,
   "metadata": {},
   "outputs": [],
   "source": [
    "# https://stackoverflow.com/questions/43515877/should-binary-features-be-one-hot-encoded (True-False)\n",
    "# True / False의 이진 범주형 데이터이므로 더미변수로 나타내줍니다.\n",
    "\n",
    "# 범주형 데이터일 경우에는 반드시 One-Hot Encording을 해야합니다.\n",
    "# 하지만 True/False, Male/Female과 같이 Binary feature는 하나의 값을 알면 다른 값을 알 수 있습니다.\n",
    "# 따라서 중복 열을 제거하고, 하나의 열에 0, 1로 표기하는 결과와 같은 label Encording을 이용합니다."
   ]
  },
  {
   "cell_type": "code",
   "execution_count": 395,
   "metadata": {},
   "outputs": [],
   "source": [
    "from sklearn.preprocessing import LabelEncoder\n",
    "\n",
    "LE = LabelEncoder()\n",
    "for i in range(0,8):\n",
    "    x = list(data.iloc[:,i])\n",
    "    \n",
    "    le.fit(x)\n",
    "    res = le.transform(x) \n",
    "    \n",
    "    data.iloc[:,i] = res"
   ]
  },
  {
   "cell_type": "code",
   "execution_count": 396,
   "metadata": {},
   "outputs": [
    {
     "data": {
      "text/html": [
       "<div>\n",
       "<style scoped>\n",
       "    .dataframe tbody tr th:only-of-type {\n",
       "        vertical-align: middle;\n",
       "    }\n",
       "\n",
       "    .dataframe tbody tr th {\n",
       "        vertical-align: top;\n",
       "    }\n",
       "\n",
       "    .dataframe thead th {\n",
       "        text-align: right;\n",
       "    }\n",
       "</style>\n",
       "<table border=\"1\" class=\"dataframe\">\n",
       "  <thead>\n",
       "    <tr style=\"text-align: right;\">\n",
       "      <th></th>\n",
       "      <th>win</th>\n",
       "      <th>firstBlood</th>\n",
       "      <th>firstTower</th>\n",
       "      <th>firstInhibitor</th>\n",
       "      <th>firstBaron</th>\n",
       "      <th>firstDragon</th>\n",
       "      <th>firstRiftHerald</th>\n",
       "      <th>towerKills</th>\n",
       "      <th>inhibitorKills</th>\n",
       "      <th>baronKills</th>\n",
       "      <th>dragonKills</th>\n",
       "      <th>riftHeraldKills</th>\n",
       "    </tr>\n",
       "  </thead>\n",
       "  <tbody>\n",
       "    <tr>\n",
       "      <th>1</th>\n",
       "      <td>1</td>\n",
       "      <td>0</td>\n",
       "      <td>0</td>\n",
       "      <td>0</td>\n",
       "      <td>0</td>\n",
       "      <td>1</td>\n",
       "      <td>1</td>\n",
       "      <td>4</td>\n",
       "      <td>0</td>\n",
       "      <td>0</td>\n",
       "      <td>2</td>\n",
       "      <td>2</td>\n",
       "    </tr>\n",
       "    <tr>\n",
       "      <th>9</th>\n",
       "      <td>1</td>\n",
       "      <td>0</td>\n",
       "      <td>1</td>\n",
       "      <td>0</td>\n",
       "      <td>0</td>\n",
       "      <td>1</td>\n",
       "      <td>1</td>\n",
       "      <td>4</td>\n",
       "      <td>0</td>\n",
       "      <td>0</td>\n",
       "      <td>1</td>\n",
       "      <td>2</td>\n",
       "    </tr>\n",
       "    <tr>\n",
       "      <th>10</th>\n",
       "      <td>1</td>\n",
       "      <td>0</td>\n",
       "      <td>0</td>\n",
       "      <td>0</td>\n",
       "      <td>0</td>\n",
       "      <td>0</td>\n",
       "      <td>0</td>\n",
       "      <td>0</td>\n",
       "      <td>0</td>\n",
       "      <td>0</td>\n",
       "      <td>0</td>\n",
       "      <td>0</td>\n",
       "    </tr>\n",
       "    <tr>\n",
       "      <th>13</th>\n",
       "      <td>1</td>\n",
       "      <td>0</td>\n",
       "      <td>0</td>\n",
       "      <td>0</td>\n",
       "      <td>0</td>\n",
       "      <td>1</td>\n",
       "      <td>0</td>\n",
       "      <td>2</td>\n",
       "      <td>0</td>\n",
       "      <td>0</td>\n",
       "      <td>3</td>\n",
       "      <td>0</td>\n",
       "    </tr>\n",
       "    <tr>\n",
       "      <th>18</th>\n",
       "      <td>1</td>\n",
       "      <td>1</td>\n",
       "      <td>0</td>\n",
       "      <td>0</td>\n",
       "      <td>0</td>\n",
       "      <td>1</td>\n",
       "      <td>0</td>\n",
       "      <td>1</td>\n",
       "      <td>0</td>\n",
       "      <td>0</td>\n",
       "      <td>2</td>\n",
       "      <td>0</td>\n",
       "    </tr>\n",
       "  </tbody>\n",
       "</table>\n",
       "</div>"
      ],
      "text/plain": [
       "    win  firstBlood  firstTower  firstInhibitor  firstBaron  firstDragon  \\\n",
       "1     1           0           0               0           0            1   \n",
       "9     1           0           1               0           0            1   \n",
       "10    1           0           0               0           0            0   \n",
       "13    1           0           0               0           0            1   \n",
       "18    1           1           0               0           0            1   \n",
       "\n",
       "    firstRiftHerald  towerKills  inhibitorKills  baronKills  dragonKills  \\\n",
       "1                 1           4               0           0            2   \n",
       "9                 1           4               0           0            1   \n",
       "10                0           0               0           0            0   \n",
       "13                0           2               0           0            3   \n",
       "18                0           1               0           0            2   \n",
       "\n",
       "    riftHeraldKills  \n",
       "1                 2  \n",
       "9                 2  \n",
       "10                0  \n",
       "13                0  \n",
       "18                0  "
      ]
     },
     "execution_count": 396,
     "metadata": {},
     "output_type": "execute_result"
    }
   ],
   "source": [
    "data.head()"
   ]
  },
  {
   "cell_type": "markdown",
   "metadata": {},
   "source": [
    "# 모델학습"
   ]
  },
  {
   "cell_type": "markdown",
   "metadata": {},
   "source": [
    "## 데이터 분할 (train, test set)"
   ]
  },
  {
   "cell_type": "code",
   "execution_count": 397,
   "metadata": {},
   "outputs": [],
   "source": [
    "target = data.iloc[:,0]\n",
    "trainData = data.iloc[:,1:]"
   ]
  },
  {
   "cell_type": "code",
   "execution_count": 398,
   "metadata": {},
   "outputs": [],
   "source": [
    "# stratify를 win으로 설정해서, 승리 및 패배가 한 쪽으로 쏠려서 분배되는 걸 방지합니다.\n",
    "from sklearn.model_selection import train_test_split\n",
    "X_train, X_test, y_train, y_test = train_test_split(trainData, target, test_size=0.2, stratify=data['win'], shuffle=True, random_state=42)"
   ]
  },
  {
   "cell_type": "code",
   "execution_count": 399,
   "metadata": {},
   "outputs": [
    {
     "name": "stdout",
     "output_type": "stream",
     "text": [
      "(102497, 11) (25625, 11) (102497,) (25625,)\n"
     ]
    }
   ],
   "source": [
    "print(X_train.shape, X_test.shape, y_train.shape, y_test.shape)"
   ]
  },
  {
   "cell_type": "code",
   "execution_count": 400,
   "metadata": {},
   "outputs": [],
   "source": [
    "#표준화\n",
    "from sklearn.preprocessing import StandardScaler\n",
    "ss = StandardScaler()\n",
    "X_scaled = ss.fit_transform(X_train)\n",
    "y_scaled = ss.transform(X_test)"
   ]
  },
  {
   "cell_type": "code",
   "execution_count": 401,
   "metadata": {},
   "outputs": [],
   "source": [
    "#정규화\n",
    "from sklearn.preprocessing import MinMaxScaler\n",
    "ms = MinMaxScaler()\n",
    "X_scaled = ms.fit_transform(X_train)\n",
    "y_scaled = ms.transform(X_test)"
   ]
  },
  {
   "cell_type": "code",
   "execution_count": 402,
   "metadata": {},
   "outputs": [],
   "source": [
    "#RobustScaler\n",
    "from sklearn.preprocessing import RobustScaler\n",
    "rs = RobustScaler()\n",
    "X_scaled = rs.fit_transform(X_train)\n",
    "y_scaled = rs.transform(X_test)"
   ]
  },
  {
   "cell_type": "code",
   "execution_count": 403,
   "metadata": {},
   "outputs": [
    {
     "data": {
      "text/html": [
       "<div>\n",
       "<style scoped>\n",
       "    .dataframe tbody tr th:only-of-type {\n",
       "        vertical-align: middle;\n",
       "    }\n",
       "\n",
       "    .dataframe tbody tr th {\n",
       "        vertical-align: top;\n",
       "    }\n",
       "\n",
       "    .dataframe thead th {\n",
       "        text-align: right;\n",
       "    }\n",
       "</style>\n",
       "<table border=\"1\" class=\"dataframe\">\n",
       "  <thead>\n",
       "    <tr style=\"text-align: right;\">\n",
       "      <th></th>\n",
       "      <th>firstBlood</th>\n",
       "      <th>firstTower</th>\n",
       "      <th>firstInhibitor</th>\n",
       "      <th>firstBaron</th>\n",
       "      <th>firstDragon</th>\n",
       "      <th>firstRiftHerald</th>\n",
       "      <th>towerKills</th>\n",
       "      <th>inhibitorKills</th>\n",
       "      <th>baronKills</th>\n",
       "      <th>dragonKills</th>\n",
       "      <th>riftHeraldKills</th>\n",
       "    </tr>\n",
       "  </thead>\n",
       "  <tbody>\n",
       "    <tr>\n",
       "      <th>65126</th>\n",
       "      <td>1</td>\n",
       "      <td>1</td>\n",
       "      <td>1</td>\n",
       "      <td>0</td>\n",
       "      <td>1</td>\n",
       "      <td>0</td>\n",
       "      <td>4</td>\n",
       "      <td>1</td>\n",
       "      <td>0</td>\n",
       "      <td>2</td>\n",
       "      <td>1</td>\n",
       "    </tr>\n",
       "    <tr>\n",
       "      <th>184599</th>\n",
       "      <td>0</td>\n",
       "      <td>0</td>\n",
       "      <td>0</td>\n",
       "      <td>0</td>\n",
       "      <td>0</td>\n",
       "      <td>0</td>\n",
       "      <td>0</td>\n",
       "      <td>0</td>\n",
       "      <td>0</td>\n",
       "      <td>0</td>\n",
       "      <td>0</td>\n",
       "    </tr>\n",
       "    <tr>\n",
       "      <th>182411</th>\n",
       "      <td>1</td>\n",
       "      <td>0</td>\n",
       "      <td>0</td>\n",
       "      <td>0</td>\n",
       "      <td>1</td>\n",
       "      <td>0</td>\n",
       "      <td>0</td>\n",
       "      <td>0</td>\n",
       "      <td>0</td>\n",
       "      <td>1</td>\n",
       "      <td>0</td>\n",
       "    </tr>\n",
       "    <tr>\n",
       "      <th>168327</th>\n",
       "      <td>0</td>\n",
       "      <td>0</td>\n",
       "      <td>0</td>\n",
       "      <td>0</td>\n",
       "      <td>0</td>\n",
       "      <td>0</td>\n",
       "      <td>0</td>\n",
       "      <td>0</td>\n",
       "      <td>0</td>\n",
       "      <td>0</td>\n",
       "      <td>0</td>\n",
       "    </tr>\n",
       "    <tr>\n",
       "      <th>164402</th>\n",
       "      <td>1</td>\n",
       "      <td>0</td>\n",
       "      <td>0</td>\n",
       "      <td>0</td>\n",
       "      <td>0</td>\n",
       "      <td>0</td>\n",
       "      <td>0</td>\n",
       "      <td>0</td>\n",
       "      <td>0</td>\n",
       "      <td>0</td>\n",
       "      <td>0</td>\n",
       "    </tr>\n",
       "  </tbody>\n",
       "</table>\n",
       "</div>"
      ],
      "text/plain": [
       "        firstBlood  firstTower  firstInhibitor  firstBaron  firstDragon  \\\n",
       "65126            1           1               1           0            1   \n",
       "184599           0           0               0           0            0   \n",
       "182411           1           0               0           0            1   \n",
       "168327           0           0               0           0            0   \n",
       "164402           1           0               0           0            0   \n",
       "\n",
       "        firstRiftHerald  towerKills  inhibitorKills  baronKills  dragonKills  \\\n",
       "65126                 0           4               1           0            2   \n",
       "184599                0           0               0           0            0   \n",
       "182411                0           0               0           0            1   \n",
       "168327                0           0               0           0            0   \n",
       "164402                0           0               0           0            0   \n",
       "\n",
       "        riftHeraldKills  \n",
       "65126                 1  \n",
       "184599                0  \n",
       "182411                0  \n",
       "168327                0  \n",
       "164402                0  "
      ]
     },
     "execution_count": 403,
     "metadata": {},
     "output_type": "execute_result"
    }
   ],
   "source": [
    "X_train.head()"
   ]
  },
  {
   "cell_type": "code",
   "execution_count": 404,
   "metadata": {},
   "outputs": [
    {
     "data": {
      "text/plain": [
       "array([[<AxesSubplot:title={'center':'firstBlood'}>,\n",
       "        <AxesSubplot:title={'center':'firstTower'}>,\n",
       "        <AxesSubplot:title={'center':'firstInhibitor'}>],\n",
       "       [<AxesSubplot:title={'center':'firstBaron'}>,\n",
       "        <AxesSubplot:title={'center':'firstDragon'}>,\n",
       "        <AxesSubplot:title={'center':'firstRiftHerald'}>],\n",
       "       [<AxesSubplot:title={'center':'towerKills'}>,\n",
       "        <AxesSubplot:title={'center':'inhibitorKills'}>,\n",
       "        <AxesSubplot:title={'center':'baronKills'}>],\n",
       "       [<AxesSubplot:title={'center':'dragonKills'}>,\n",
       "        <AxesSubplot:title={'center':'riftHeraldKills'}>, <AxesSubplot:>]],\n",
       "      dtype=object)"
      ]
     },
     "execution_count": 404,
     "metadata": {},
     "output_type": "execute_result"
    },
    {
     "data": {
      "image/png": "[encoded data removed]",
      "text/plain": [
       "<Figure size 720x648 with 12 Axes>"
      ]
     },
     "metadata": {
      "needs_background": "light"
     },
     "output_type": "display_data"
    }
   ],
   "source": [
    "pd.DataFrame(X_train).hist(figsize=(10,9))"
   ]
  },
  {
   "cell_type": "code",
   "execution_count": 405,
   "metadata": {},
   "outputs": [
    {
     "data": {
      "text/html": [
       "<div>\n",
       "<style scoped>\n",
       "    .dataframe tbody tr th:only-of-type {\n",
       "        vertical-align: middle;\n",
       "    }\n",
       "\n",
       "    .dataframe tbody tr th {\n",
       "        vertical-align: top;\n",
       "    }\n",
       "\n",
       "    .dataframe thead th {\n",
       "        text-align: right;\n",
       "    }\n",
       "</style>\n",
       "<table border=\"1\" class=\"dataframe\">\n",
       "  <thead>\n",
       "    <tr style=\"text-align: right;\">\n",
       "      <th></th>\n",
       "      <th>0</th>\n",
       "      <th>1</th>\n",
       "      <th>2</th>\n",
       "      <th>3</th>\n",
       "      <th>4</th>\n",
       "      <th>5</th>\n",
       "      <th>6</th>\n",
       "      <th>7</th>\n",
       "      <th>8</th>\n",
       "      <th>9</th>\n",
       "      <th>10</th>\n",
       "    </tr>\n",
       "  </thead>\n",
       "  <tbody>\n",
       "    <tr>\n",
       "      <th>0</th>\n",
       "      <td>1.0</td>\n",
       "      <td>1.0</td>\n",
       "      <td>1.0</td>\n",
       "      <td>0.0</td>\n",
       "      <td>1.0</td>\n",
       "      <td>0.0</td>\n",
       "      <td>0.666667</td>\n",
       "      <td>1.0</td>\n",
       "      <td>0.0</td>\n",
       "      <td>2.0</td>\n",
       "      <td>1.0</td>\n",
       "    </tr>\n",
       "    <tr>\n",
       "      <th>1</th>\n",
       "      <td>0.0</td>\n",
       "      <td>0.0</td>\n",
       "      <td>0.0</td>\n",
       "      <td>0.0</td>\n",
       "      <td>0.0</td>\n",
       "      <td>0.0</td>\n",
       "      <td>-0.666667</td>\n",
       "      <td>0.0</td>\n",
       "      <td>0.0</td>\n",
       "      <td>0.0</td>\n",
       "      <td>0.0</td>\n",
       "    </tr>\n",
       "    <tr>\n",
       "      <th>2</th>\n",
       "      <td>1.0</td>\n",
       "      <td>0.0</td>\n",
       "      <td>0.0</td>\n",
       "      <td>0.0</td>\n",
       "      <td>1.0</td>\n",
       "      <td>0.0</td>\n",
       "      <td>-0.666667</td>\n",
       "      <td>0.0</td>\n",
       "      <td>0.0</td>\n",
       "      <td>1.0</td>\n",
       "      <td>0.0</td>\n",
       "    </tr>\n",
       "    <tr>\n",
       "      <th>3</th>\n",
       "      <td>0.0</td>\n",
       "      <td>0.0</td>\n",
       "      <td>0.0</td>\n",
       "      <td>0.0</td>\n",
       "      <td>0.0</td>\n",
       "      <td>0.0</td>\n",
       "      <td>-0.666667</td>\n",
       "      <td>0.0</td>\n",
       "      <td>0.0</td>\n",
       "      <td>0.0</td>\n",
       "      <td>0.0</td>\n",
       "    </tr>\n",
       "    <tr>\n",
       "      <th>4</th>\n",
       "      <td>1.0</td>\n",
       "      <td>0.0</td>\n",
       "      <td>0.0</td>\n",
       "      <td>0.0</td>\n",
       "      <td>0.0</td>\n",
       "      <td>0.0</td>\n",
       "      <td>-0.666667</td>\n",
       "      <td>0.0</td>\n",
       "      <td>0.0</td>\n",
       "      <td>0.0</td>\n",
       "      <td>0.0</td>\n",
       "    </tr>\n",
       "    <tr>\n",
       "      <th>...</th>\n",
       "      <td>...</td>\n",
       "      <td>...</td>\n",
       "      <td>...</td>\n",
       "      <td>...</td>\n",
       "      <td>...</td>\n",
       "      <td>...</td>\n",
       "      <td>...</td>\n",
       "      <td>...</td>\n",
       "      <td>...</td>\n",
       "      <td>...</td>\n",
       "      <td>...</td>\n",
       "    </tr>\n",
       "    <tr>\n",
       "      <th>102492</th>\n",
       "      <td>1.0</td>\n",
       "      <td>0.0</td>\n",
       "      <td>0.0</td>\n",
       "      <td>0.0</td>\n",
       "      <td>1.0</td>\n",
       "      <td>1.0</td>\n",
       "      <td>-0.333333</td>\n",
       "      <td>0.0</td>\n",
       "      <td>0.0</td>\n",
       "      <td>2.0</td>\n",
       "      <td>1.0</td>\n",
       "    </tr>\n",
       "    <tr>\n",
       "      <th>102493</th>\n",
       "      <td>1.0</td>\n",
       "      <td>0.0</td>\n",
       "      <td>0.0</td>\n",
       "      <td>0.0</td>\n",
       "      <td>0.0</td>\n",
       "      <td>0.0</td>\n",
       "      <td>-0.666667</td>\n",
       "      <td>0.0</td>\n",
       "      <td>0.0</td>\n",
       "      <td>0.0</td>\n",
       "      <td>0.0</td>\n",
       "    </tr>\n",
       "    <tr>\n",
       "      <th>102494</th>\n",
       "      <td>0.0</td>\n",
       "      <td>0.0</td>\n",
       "      <td>0.0</td>\n",
       "      <td>0.0</td>\n",
       "      <td>0.0</td>\n",
       "      <td>0.0</td>\n",
       "      <td>0.333333</td>\n",
       "      <td>0.0</td>\n",
       "      <td>0.0</td>\n",
       "      <td>0.0</td>\n",
       "      <td>0.0</td>\n",
       "    </tr>\n",
       "    <tr>\n",
       "      <th>102495</th>\n",
       "      <td>0.0</td>\n",
       "      <td>0.0</td>\n",
       "      <td>0.0</td>\n",
       "      <td>0.0</td>\n",
       "      <td>1.0</td>\n",
       "      <td>0.0</td>\n",
       "      <td>-0.666667</td>\n",
       "      <td>0.0</td>\n",
       "      <td>0.0</td>\n",
       "      <td>1.0</td>\n",
       "      <td>0.0</td>\n",
       "    </tr>\n",
       "    <tr>\n",
       "      <th>102496</th>\n",
       "      <td>0.0</td>\n",
       "      <td>0.0</td>\n",
       "      <td>0.0</td>\n",
       "      <td>0.0</td>\n",
       "      <td>0.0</td>\n",
       "      <td>1.0</td>\n",
       "      <td>-0.666667</td>\n",
       "      <td>0.0</td>\n",
       "      <td>0.0</td>\n",
       "      <td>0.0</td>\n",
       "      <td>1.0</td>\n",
       "    </tr>\n",
       "  </tbody>\n",
       "</table>\n",
       "<p>102497 rows × 11 columns</p>\n",
       "</div>"
      ],
      "text/plain": [
       "         0    1    2    3    4    5         6    7    8    9    10\n",
       "0       1.0  1.0  1.0  0.0  1.0  0.0  0.666667  1.0  0.0  2.0  1.0\n",
       "1       0.0  0.0  0.0  0.0  0.0  0.0 -0.666667  0.0  0.0  0.0  0.0\n",
       "2       1.0  0.0  0.0  0.0  1.0  0.0 -0.666667  0.0  0.0  1.0  0.0\n",
       "3       0.0  0.0  0.0  0.0  0.0  0.0 -0.666667  0.0  0.0  0.0  0.0\n",
       "4       1.0  0.0  0.0  0.0  0.0  0.0 -0.666667  0.0  0.0  0.0  0.0\n",
       "...     ...  ...  ...  ...  ...  ...       ...  ...  ...  ...  ...\n",
       "102492  1.0  0.0  0.0  0.0  1.0  1.0 -0.333333  0.0  0.0  2.0  1.0\n",
       "102493  1.0  0.0  0.0  0.0  0.0  0.0 -0.666667  0.0  0.0  0.0  0.0\n",
       "102494  0.0  0.0  0.0  0.0  0.0  0.0  0.333333  0.0  0.0  0.0  0.0\n",
       "102495  0.0  0.0  0.0  0.0  1.0  0.0 -0.666667  0.0  0.0  1.0  0.0\n",
       "102496  0.0  0.0  0.0  0.0  0.0  1.0 -0.666667  0.0  0.0  0.0  1.0\n",
       "\n",
       "[102497 rows x 11 columns]"
      ]
     },
     "execution_count": 405,
     "metadata": {},
     "output_type": "execute_result"
    }
   ],
   "source": [
    "Xpd = pd.DataFrame(X_scaled)\n",
    "Xpd"
   ]
  },
  {
   "cell_type": "code",
   "execution_count": 406,
   "metadata": {},
   "outputs": [
    {
     "name": "stdout",
     "output_type": "stream",
     "text": [
      "RandomForestClassifier Out-of-bag score estimate: 0.87\n",
      "RandomForestClassifier Mean accuracy score: 0.871\n"
     ]
    }
   ],
   "source": [
    "from sklearn.ensemble import RandomForestClassifier\n",
    "\n",
    "rf = RandomForestClassifier(n_estimators=100, oob_score=True, random_state=42)\n",
    "rf.fit(X_train, y_train)\n",
    "\n",
    "from sklearn.metrics import accuracy_score\n",
    "\n",
    "y_pred_rf = rf.predict(X_test)\n",
    "accuracy = accuracy_score(y_test, y_pred_rf)\n",
    "\n",
    "#oob_score = out of bag score, 예측 정확도에 대한 추정치\n",
    "print(f'RandomForestClassifier Out-of-bag score estimate: {rf.oob_score_:.3}')\n",
    "print(f'RandomForestClassifier Mean accuracy score: {accuracy:.3}')"
   ]
  },
  {
   "cell_type": "code",
   "execution_count": 407,
   "metadata": {},
   "outputs": [
    {
     "data": {
      "text/plain": [
       "array([0.02627783, 0.1647069 , 0.08730949, 0.01385865, 0.0394036 ,\n",
       "       0.01063492, 0.33863777, 0.18807004, 0.01519748, 0.08853273,\n",
       "       0.02737059])"
      ]
     },
     "execution_count": 407,
     "metadata": {},
     "output_type": "execute_result"
    }
   ],
   "source": [
    "rf.feature_importances_"
   ]
  },
  {
   "cell_type": "code",
   "execution_count": 408,
   "metadata": {},
   "outputs": [
    {
     "data": {
      "text/plain": [
       "<AxesSubplot:title={'center':'RandomForestClassifier Feature Importances'}>"
      ]
     },
     "execution_count": 408,
     "metadata": {},
     "output_type": "execute_result"
    },
    {
     "data": {
      "image/png": "[encoded data removed]",
      "text/plain": [
       "<Figure size 432x288 with 1 Axes>"
      ]
     },
     "metadata": {
      "needs_background": "light"
     },
     "output_type": "display_data"
    }
   ],
   "source": [
    "importance = pd.DataFrame(rf.feature_importances_, index=X_train.columns, columns=[\"importance\"]).sort_values(by=\"importance\",ascending =True)\n",
    "importance.plot.barh(title='RandomForestClassifier Feature Importances')"
   ]
  },
  {
   "cell_type": "code",
   "execution_count": 409,
   "metadata": {},
   "outputs": [
    {
     "name": "stdout",
     "output_type": "stream",
     "text": [
      "GradientBoostingClassifier Test Accuracy = 0.8680975609756097\n"
     ]
    }
   ],
   "source": [
    "from sklearn.ensemble import GradientBoostingClassifier\n",
    "clf_gbc = GradientBoostingClassifier()\n",
    "clf_gbc.fit(X_train,y_train)\n",
    "\n",
    "y_pred_clf = clf_gbc.predict(X_test)\n",
    "\n",
    "print('GradientBoostingClassifier Test Accuracy = ' + str(accuracy_score(y_test,y_pred_clf)))"
   ]
  },
  {
   "cell_type": "code",
   "execution_count": 410,
   "metadata": {},
   "outputs": [
    {
     "data": {
      "text/plain": [
       "array([0.01366432, 0.1506843 , 0.01502336, 0.01285503, 0.04665605,\n",
       "       0.0007584 , 0.57697329, 0.1278591 , 0.00485399, 0.04421684,\n",
       "       0.00645532])"
      ]
     },
     "execution_count": 410,
     "metadata": {},
     "output_type": "execute_result"
    }
   ],
   "source": [
    "clf_gbc.feature_importances_"
   ]
  },
  {
   "cell_type": "code",
   "execution_count": 411,
   "metadata": {},
   "outputs": [
    {
     "data": {
      "text/plain": [
       "<AxesSubplot:title={'center':'GradientBoostingClassifier Feature Importances'}>"
      ]
     },
     "execution_count": 411,
     "metadata": {},
     "output_type": "execute_result"
    },
    {
     "data": {
      "image/png": "[encoded data removed]",
      "text/plain": [
       "<Figure size 432x288 with 1 Axes>"
      ]
     },
     "metadata": {
      "needs_background": "light"
     },
     "output_type": "display_data"
    }
   ],
   "source": [
    "importance = pd.DataFrame(clf_gbc.feature_importances_, index=X_train.columns, columns=[\"importance\"]).sort_values(by=\"importance\",ascending =True)\n",
    "importance.plot.barh(title='GradientBoostingClassifier Feature Importances')"
   ]
  },
  {
   "cell_type": "code",
   "execution_count": 412,
   "metadata": {},
   "outputs": [],
   "source": [
    "# !pip install xgboost\n",
    "import warnings\n",
    "\n",
    "\n",
    "warnings.filterwarnings(action='ignore')"
   ]
  },
  {
   "cell_type": "code",
   "execution_count": 413,
   "metadata": {},
   "outputs": [
    {
     "name": "stdout",
     "output_type": "stream",
     "text": [
      "[16:04:38] WARNING: C:/Users/Administrator/workspace/xgboost-win64_release_1.5.1/src/learner.cc:1115: Starting in XGBoost 1.3.0, the default evaluation metric used with the objective 'binary:logistic' was changed from 'error' to 'logloss'. Explicitly set eval_metric if you'd like to restore the old behavior.\n",
      "XGBClassifier Test Accuracy = 0.8732487804878049\n"
     ]
    }
   ],
   "source": [
    "from xgboost import XGBClassifier\n",
    "import xgboost as xgb\n",
    "from xgboost import plot_importance\n",
    "from matplotlib import pyplot\n",
    "\n",
    "#xgb로 학습시키기 위해서는 데이터 형식을 float로 변환\n",
    "X_train[['towerKills', 'inhibitorKills', 'baronKills', 'dragonKills', 'riftHeraldKills']] = X_train[['towerKills', 'inhibitorKills', 'baronKills', 'dragonKills', 'riftHeraldKills']].astype('float')\n",
    "X_test[['towerKills', 'inhibitorKills', 'baronKills', 'dragonKills', 'riftHeraldKills']] = X_test[['towerKills', 'inhibitorKills', 'baronKills', 'dragonKills', 'riftHeraldKills']].astype('float')\n",
    "\n",
    "xgb_model = XGBClassifier()\n",
    "xgb_model.fit(X_train,y_train)\n",
    "y_pred_xgb = xgb_model.predict(X_test)\n",
    "\n",
    "print('XGBClassifier Test Accuracy = ' + str(accuracy_score(y_test,y_pred_xgb))) #정확도 계산"
   ]
  },
  {
   "cell_type": "code",
   "execution_count": 414,
   "metadata": {},
   "outputs": [
    {
     "data": {
      "text/plain": [
       "array([0.01664275, 0.17585127, 0.03112256, 0.02427532, 0.07020946,\n",
       "       0.00767549, 0.4425047 , 0.18049692, 0.01114543, 0.02675633,\n",
       "       0.01331975], dtype=float32)"
      ]
     },
     "execution_count": 414,
     "metadata": {},
     "output_type": "execute_result"
    }
   ],
   "source": [
    "xgb_model.feature_importances_"
   ]
  },
  {
   "cell_type": "code",
   "execution_count": 415,
   "metadata": {},
   "outputs": [
    {
     "data": {
      "text/plain": [
       "<AxesSubplot:title={'center':'XGBClassifier Feature Importances'}>"
      ]
     },
     "execution_count": 415,
     "metadata": {},
     "output_type": "execute_result"
    },
    {
     "data": {
      "image/png": "[encoded data removed]",
      "text/plain": [
       "<Figure size 432x288 with 1 Axes>"
      ]
     },
     "metadata": {
      "needs_background": "light"
     },
     "output_type": "display_data"
    }
   ],
   "source": [
    "importance = pd.DataFrame(xgb_model.feature_importances_, index=X_train.columns, columns=[\"importance\"]).sort_values(by=\"importance\",ascending =True)\n",
    "importance.plot.barh(title='XGBClassifier Feature Importances')"
   ]
  },
  {
   "cell_type": "code",
   "execution_count": 416,
   "metadata": {},
   "outputs": [
    {
     "data": {
      "text/plain": [
       "array([0.84902439, 0.8475122 , 0.85091956, 0.84989512, 0.84755354])"
      ]
     },
     "execution_count": 416,
     "metadata": {},
     "output_type": "execute_result"
    }
   ],
   "source": [
    "# from sklearn.linear_model import SGDClassifier\n",
    "from sklearn.linear_model import LogisticRegression\n",
    "\n",
    "reg = LogisticRegression()\n",
    "reg.fit(X_train, y_train)\n",
    "\n",
    "from sklearn.model_selection import cross_val_score\n",
    "cross_val_score(LogisticRegression(), X_train, y_train)"
   ]
  },
  {
   "cell_type": "code",
   "execution_count": null,
   "metadata": {},
   "outputs": [],
   "source": []
  },
  {
   "cell_type": "code",
   "execution_count": null,
   "metadata": {},
   "outputs": [],
   "source": []
  },
  {
   "cell_type": "code",
   "execution_count": null,
   "metadata": {},
   "outputs": [],
   "source": []
  }
 ],
 "metadata": {
  "kernelspec": {
   "display_name": "Python 3 (ipykernel)",
   "language": "python",
   "name": "python3"
  },
  "language_info": {
   "codemirror_mode": {
    "name": "ipython",
    "version": 3
   },
   "file_extension": ".py",
   "mimetype": "text/x-python",
   "name": "python",
   "nbconvert_exporter": "python",
   "pygments_lexer": "ipython3",
   "version": "3.8.5"
  },
  "toc": {
   "base_numbering": 1,
   "nav_menu": {},
   "number_sections": true,
   "sideBar": true,
   "skip_h1_title": false,
   "title_cell": "Table of Contents",
   "title_sidebar": "Contents",
   "toc_cell": false,
   "toc_position": {},
   "toc_section_display": true,
   "toc_window_display": false
  }
 },
 "nbformat": 4,
 "nbformat_minor": 4
}
