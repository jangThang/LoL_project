{
 "cells": [
  {
   "cell_type": "code",
   "execution_count": 52,
   "metadata": {},
   "outputs": [],
   "source": [
    "import numpy as np\n",
    "import pandas as pd\n",
    "import pickle\n",
    "\n",
    "import matplotlib\n",
    "import matplotlib.pyplot as plt\n",
    "import seaborn as sns"
   ]
  },
  {
   "cell_type": "code",
   "execution_count": 53,
   "metadata": {},
   "outputs": [],
   "source": [
    "pd.set_option('display.max_columns', 50)"
   ]
  },
  {
   "cell_type": "code",
   "execution_count": 54,
   "metadata": {},
   "outputs": [
    {
     "data": {
      "text/plain": [
       "(199925, 50)"
      ]
     },
     "execution_count": 54,
     "metadata": {},
     "output_type": "execute_result"
    }
   ],
   "source": [
    "data = pd.concat([\n",
    "    pd.read_csv('rankData/Challenger_Ranked_Games.csv'),\n",
    "    pd.read_csv('rankData/Master_Ranked_Games.csv'),\n",
    "    pd.read_csv('rankData/GrandMaster_Ranked_Games.csv')\n",
    "])\n",
    "data.shape"
   ]
  },
  {
   "cell_type": "code",
   "execution_count": 55,
   "metadata": {},
   "outputs": [
    {
     "name": "stdout",
     "output_type": "stream",
     "text": [
      "<class 'pandas.core.frame.DataFrame'>\n",
      "Int64Index: 199925 entries, 0 to 65895\n",
      "Data columns (total 50 columns):\n",
      " #   Column                   Non-Null Count   Dtype  \n",
      "---  ------                   --------------   -----  \n",
      " 0   gameId                   199925 non-null  int64  \n",
      " 1   gameDuraton              199925 non-null  int64  \n",
      " 2   blueWins                 199925 non-null  int64  \n",
      " 3   blueFirstBlood           199925 non-null  int64  \n",
      " 4   blueFirstTower           199925 non-null  int64  \n",
      " 5   blueFirstBaron           199925 non-null  int64  \n",
      " 6   blueFirstDragon          199925 non-null  int64  \n",
      " 7   blueFirstInhibitor       199925 non-null  int64  \n",
      " 8   blueDragonKills          199925 non-null  int64  \n",
      " 9   blueBaronKills           199925 non-null  int64  \n",
      " 10  blueTowerKills           199925 non-null  int64  \n",
      " 11  blueInhibitorKills       199925 non-null  int64  \n",
      " 12  blueWardPlaced           199925 non-null  int64  \n",
      " 13  blueWardkills            199925 non-null  int64  \n",
      " 14  blueKills                199925 non-null  int64  \n",
      " 15  blueDeath                199925 non-null  int64  \n",
      " 16  blueAssist               199925 non-null  int64  \n",
      " 17  blueChampionDamageDealt  199925 non-null  int64  \n",
      " 18  blueTotalGold            199925 non-null  int64  \n",
      " 19  blueTotalMinionKills     199925 non-null  int64  \n",
      " 20  blueTotalLevel           199925 non-null  int64  \n",
      " 21  blueAvgLevel             199925 non-null  float64\n",
      " 22  blueJungleMinionKills    199925 non-null  int64  \n",
      " 23  blueKillingSpree         199925 non-null  int64  \n",
      " 24  blueTotalHeal            199925 non-null  int64  \n",
      " 25  blueObjectDamageDealt    199925 non-null  int64  \n",
      " 26  redWins                  199925 non-null  int64  \n",
      " 27  redFirstBlood            199925 non-null  int64  \n",
      " 28  redFirstTower            199925 non-null  int64  \n",
      " 29  redFirstBaron            199925 non-null  int64  \n",
      " 30  redFirstDragon           199925 non-null  int64  \n",
      " 31  redFirstInhibitor        199925 non-null  int64  \n",
      " 32  redDragonKills           199925 non-null  int64  \n",
      " 33  redBaronKills            199925 non-null  int64  \n",
      " 34  redTowerKills            199925 non-null  int64  \n",
      " 35  redInhibitorKills        199925 non-null  int64  \n",
      " 36  redWardPlaced            199925 non-null  int64  \n",
      " 37  redWardkills             199925 non-null  int64  \n",
      " 38  redKills                 199925 non-null  int64  \n",
      " 39  redDeath                 199925 non-null  int64  \n",
      " 40  redAssist                199925 non-null  int64  \n",
      " 41  redChampionDamageDealt   199925 non-null  int64  \n",
      " 42  redTotalGold             199925 non-null  int64  \n",
      " 43  redTotalMinionKills      199925 non-null  int64  \n",
      " 44  redTotalLevel            199925 non-null  int64  \n",
      " 45  redAvgLevel              199925 non-null  float64\n",
      " 46  redJungleMinionKills     199925 non-null  int64  \n",
      " 47  redKillingSpree          199925 non-null  int64  \n",
      " 48  redTotalHeal             199925 non-null  int64  \n",
      " 49  redObjectDamageDealt     199925 non-null  int64  \n",
      "dtypes: float64(2), int64(48)\n",
      "memory usage: 77.8 MB\n"
     ]
    }
   ],
   "source": [
    "data.info()"
   ]
  },
  {
   "cell_type": "code",
   "execution_count": 56,
   "metadata": {},
   "outputs": [],
   "source": [
    "data = data.drop_duplicates('gameId') # 중복제거"
   ]
  },
  {
   "cell_type": "code",
   "execution_count": 57,
   "metadata": {},
   "outputs": [
    {
     "name": "stdout",
     "output_type": "stream",
     "text": [
      "<class 'pandas.core.frame.DataFrame'>\n",
      "Int64Index: 145740 entries, 0 to 65891\n",
      "Data columns (total 50 columns):\n",
      " #   Column                   Non-Null Count   Dtype  \n",
      "---  ------                   --------------   -----  \n",
      " 0   gameId                   145740 non-null  int64  \n",
      " 1   gameDuraton              145740 non-null  int64  \n",
      " 2   blueWins                 145740 non-null  int64  \n",
      " 3   blueFirstBlood           145740 non-null  int64  \n",
      " 4   blueFirstTower           145740 non-null  int64  \n",
      " 5   blueFirstBaron           145740 non-null  int64  \n",
      " 6   blueFirstDragon          145740 non-null  int64  \n",
      " 7   blueFirstInhibitor       145740 non-null  int64  \n",
      " 8   blueDragonKills          145740 non-null  int64  \n",
      " 9   blueBaronKills           145740 non-null  int64  \n",
      " 10  blueTowerKills           145740 non-null  int64  \n",
      " 11  blueInhibitorKills       145740 non-null  int64  \n",
      " 12  blueWardPlaced           145740 non-null  int64  \n",
      " 13  blueWardkills            145740 non-null  int64  \n",
      " 14  blueKills                145740 non-null  int64  \n",
      " 15  blueDeath                145740 non-null  int64  \n",
      " 16  blueAssist               145740 non-null  int64  \n",
      " 17  blueChampionDamageDealt  145740 non-null  int64  \n",
      " 18  blueTotalGold            145740 non-null  int64  \n",
      " 19  blueTotalMinionKills     145740 non-null  int64  \n",
      " 20  blueTotalLevel           145740 non-null  int64  \n",
      " 21  blueAvgLevel             145740 non-null  float64\n",
      " 22  blueJungleMinionKills    145740 non-null  int64  \n",
      " 23  blueKillingSpree         145740 non-null  int64  \n",
      " 24  blueTotalHeal            145740 non-null  int64  \n",
      " 25  blueObjectDamageDealt    145740 non-null  int64  \n",
      " 26  redWins                  145740 non-null  int64  \n",
      " 27  redFirstBlood            145740 non-null  int64  \n",
      " 28  redFirstTower            145740 non-null  int64  \n",
      " 29  redFirstBaron            145740 non-null  int64  \n",
      " 30  redFirstDragon           145740 non-null  int64  \n",
      " 31  redFirstInhibitor        145740 non-null  int64  \n",
      " 32  redDragonKills           145740 non-null  int64  \n",
      " 33  redBaronKills            145740 non-null  int64  \n",
      " 34  redTowerKills            145740 non-null  int64  \n",
      " 35  redInhibitorKills        145740 non-null  int64  \n",
      " 36  redWardPlaced            145740 non-null  int64  \n",
      " 37  redWardkills             145740 non-null  int64  \n",
      " 38  redKills                 145740 non-null  int64  \n",
      " 39  redDeath                 145740 non-null  int64  \n",
      " 40  redAssist                145740 non-null  int64  \n",
      " 41  redChampionDamageDealt   145740 non-null  int64  \n",
      " 42  redTotalGold             145740 non-null  int64  \n",
      " 43  redTotalMinionKills      145740 non-null  int64  \n",
      " 44  redTotalLevel            145740 non-null  int64  \n",
      " 45  redAvgLevel              145740 non-null  float64\n",
      " 46  redJungleMinionKills     145740 non-null  int64  \n",
      " 47  redKillingSpree          145740 non-null  int64  \n",
      " 48  redTotalHeal             145740 non-null  int64  \n",
      " 49  redObjectDamageDealt     145740 non-null  int64  \n",
      "dtypes: float64(2), int64(48)\n",
      "memory usage: 56.7 MB\n"
     ]
    }
   ],
   "source": [
    "data.info()"
   ]
  },
  {
   "cell_type": "code",
   "execution_count": 58,
   "metadata": {},
   "outputs": [],
   "source": [
    "from sklearn.base import (BaseEstimator, TransformerMixin)\n",
    "\n",
    "\n",
    "class Deduplicator(TransformerMixin, BaseEstimator): # 데이터 중복제거\n",
    "    def __init__(self, unique):\n",
    "        self._unique = unique # 중복제거\n",
    "    def fit(self, X, y=None):\n",
    "        return self\n",
    "    def transform(self, X):\n",
    "        return X.drop_duplicates(self._unique)\n",
    "    \n",
    "    \n",
    "class Dropper(TransformerMixin, BaseEstimator):\n",
    "    def __init__(self, columns):\n",
    "        self._columns = columns\n",
    "    def fit(self, X, y=None):\n",
    "        return self\n",
    "    def transform(self, X):\n",
    "        return X.drop(self._columns, axis=1)\n",
    "    \n",
    "\n",
    "class FieldTransformer(TransformerMixin, BaseEstimator): # blue팀의 점수 - red 팀의 점수. 즉 점수가 높을수록 유리\n",
    "\n",
    "    label = None\n",
    "\n",
    "    def fit(self, X, y=None):\n",
    "        return self\n",
    "\n",
    "    def transform(self, X):\n",
    "        inp = pd.DataFrame()\n",
    "\n",
    "        blue_columns = [x for x in data.columns if x.startswith('blue')]\n",
    "        red_columns = [x.replace('blue', 'red') for x in blue_columns]\n",
    "        for b, row in zip(blue_columns, red_columns):\n",
    "            if row in X.columns:\n",
    "                name = b.replace('blue', '')\n",
    "                col = X[b] - X[row]\n",
    "                inp[name] = col\n",
    "                \n",
    "        self.label = inp['Wins']\n",
    "        return inp.drop('Wins', axis=1)\n",
    "\n",
    "\n",
    "from sklearn.pipeline import Pipeline\n",
    "from sklearn.preprocessing import StandardScaler\n",
    "\n",
    "\n",
    "pipeline = Pipeline([\n",
    "    ('dedup', Deduplicator('gameId')), # gameId로 중복제거\n",
    "    ('fields', FieldTransformer()), # 블루팀 점수 - 레드 팀 점수\n",
    "    ('drop', Dropper(['WardPlaced', 'Wardkills', 'ChampionDamageDealt', 'JungleMinionKills', 'TotalHeal', 'ObjectDamageDealt'])), # 불필요한 열 제거 (ward)\n",
    "    ('scaler', StandardScaler()), # 표준화\n",
    "])\n",
    "\n",
    "\n",
    "def label(pipeline):\n",
    "    return pipeline.steps[1][1].label.values"
   ]
  },
  {
   "cell_type": "code",
   "execution_count": 59,
   "metadata": {},
   "outputs": [
    {
     "name": "stdout",
     "output_type": "stream",
     "text": [
      "(109305, 50) (36435, 50)\n"
     ]
    }
   ],
   "source": [
    "from sklearn.model_selection import train_test_split\n",
    "train, test = train_test_split(data, shuffle=True, random_state=42)\n",
    "print(train.shape, test.shape)"
   ]
  },
  {
   "cell_type": "code",
   "execution_count": 60,
   "metadata": {},
   "outputs": [
    {
     "data": {
      "text/plain": [
       "array([0.99011939, 0.98806093, 0.98934175, 0.98906729, 0.99039385])"
      ]
     },
     "execution_count": 60,
     "metadata": {},
     "output_type": "execute_result"
    }
   ],
   "source": [
    "from sklearn.linear_model import LogisticRegression\n",
    "\n",
    "X_train = pipeline.fit_transform(train)\n",
    "y_train = label(pipeline)\n",
    "\n",
    "reg = LogisticRegression()\n",
    "reg.fit(X_train, y_train)\n",
    "\n",
    "from sklearn.model_selection import cross_val_score\n",
    "cross_val_score(LogisticRegression(), X_train, y_train)"
   ]
  },
  {
   "cell_type": "code",
   "execution_count": 61,
   "metadata": {},
   "outputs": [
    {
     "name": "stdout",
     "output_type": "stream",
     "text": [
      "108149/109305 accuracy: 98.942409%\n",
      "36035/36435 accuracy: 98.902155%\n"
     ]
    }
   ],
   "source": [
    "def pred(reg, X, y):\n",
    "    assert(X.shape[0] == y.shape[0])\n",
    "    y_pred = reg.predict(X)\n",
    "    good = (y_pred == y).sum()\n",
    "    total = len(y)\n",
    "    percentage = good / total\n",
    "    print(f'{good}/{total} accuracy: {percentage:%}')\n",
    "\n",
    "# train set accuracy\n",
    "pred(reg, X_train, y_train)\n",
    "\n",
    "# test set accuracy\n",
    "X_test = pipeline.transform(test)\n",
    "y_test = label(pipeline)\n",
    "pred(reg, X_test, y_test)"
   ]
  },
  {
   "cell_type": "code",
   "execution_count": null,
   "metadata": {},
   "outputs": [],
   "source": []
  },
  {
   "cell_type": "code",
   "execution_count": 118,
   "metadata": {},
   "outputs": [],
   "source": [
    "championship = pd.read_csv('rankData/LWC_fianlMatch_v3.csv')"
   ]
  },
  {
   "cell_type": "code",
   "execution_count": 119,
   "metadata": {},
   "outputs": [
    {
     "data": {
      "text/html": [
       "<div>\n",
       "<style scoped>\n",
       "    .dataframe tbody tr th:only-of-type {\n",
       "        vertical-align: middle;\n",
       "    }\n",
       "\n",
       "    .dataframe tbody tr th {\n",
       "        vertical-align: top;\n",
       "    }\n",
       "\n",
       "    .dataframe thead th {\n",
       "        text-align: right;\n",
       "    }\n",
       "</style>\n",
       "<table border=\"1\" class=\"dataframe\">\n",
       "  <thead>\n",
       "    <tr style=\"text-align: right;\">\n",
       "      <th></th>\n",
       "      <th>FirstBlood</th>\n",
       "      <th>FirstTower</th>\n",
       "      <th>FirstBaron</th>\n",
       "      <th>FirstDragon</th>\n",
       "      <th>FirstInhibitor</th>\n",
       "      <th>dragonKills</th>\n",
       "      <th>BaronKills</th>\n",
       "      <th>TowerKills</th>\n",
       "      <th>InhibitorKills</th>\n",
       "      <th>championKills</th>\n",
       "      <th>championDeath</th>\n",
       "      <th>championAssist</th>\n",
       "      <th>totalGold</th>\n",
       "      <th>totalMinionKills</th>\n",
       "      <th>totalLevel</th>\n",
       "      <th>avgLevel</th>\n",
       "      <th>killingSpree</th>\n",
       "    </tr>\n",
       "  </thead>\n",
       "  <tbody>\n",
       "    <tr>\n",
       "      <th>0</th>\n",
       "      <td>1</td>\n",
       "      <td>0</td>\n",
       "      <td>0</td>\n",
       "      <td>0</td>\n",
       "      <td>0</td>\n",
       "      <td>-2</td>\n",
       "      <td>0</td>\n",
       "      <td>0</td>\n",
       "      <td>0</td>\n",
       "      <td>1</td>\n",
       "      <td>-1</td>\n",
       "      <td>2</td>\n",
       "      <td>1500</td>\n",
       "      <td>31</td>\n",
       "      <td>2</td>\n",
       "      <td>1</td>\n",
       "      <td>0</td>\n",
       "    </tr>\n",
       "    <tr>\n",
       "      <th>1</th>\n",
       "      <td>1</td>\n",
       "      <td>1</td>\n",
       "      <td>0</td>\n",
       "      <td>-1</td>\n",
       "      <td>0</td>\n",
       "      <td>-4</td>\n",
       "      <td>0</td>\n",
       "      <td>2</td>\n",
       "      <td>0</td>\n",
       "      <td>1</td>\n",
       "      <td>-1</td>\n",
       "      <td>-1</td>\n",
       "      <td>3000</td>\n",
       "      <td>41</td>\n",
       "      <td>1</td>\n",
       "      <td>0</td>\n",
       "      <td>1</td>\n",
       "    </tr>\n",
       "    <tr>\n",
       "      <th>2</th>\n",
       "      <td>1</td>\n",
       "      <td>1</td>\n",
       "      <td>0</td>\n",
       "      <td>-1</td>\n",
       "      <td>0</td>\n",
       "      <td>-4</td>\n",
       "      <td>0</td>\n",
       "      <td>1</td>\n",
       "      <td>0</td>\n",
       "      <td>-3</td>\n",
       "      <td>3</td>\n",
       "      <td>-4</td>\n",
       "      <td>0</td>\n",
       "      <td>12</td>\n",
       "      <td>-2</td>\n",
       "      <td>0</td>\n",
       "      <td>-3</td>\n",
       "    </tr>\n",
       "    <tr>\n",
       "      <th>3</th>\n",
       "      <td>1</td>\n",
       "      <td>1</td>\n",
       "      <td>-1</td>\n",
       "      <td>-1</td>\n",
       "      <td>-1</td>\n",
       "      <td>-4</td>\n",
       "      <td>-1</td>\n",
       "      <td>-3</td>\n",
       "      <td>-1</td>\n",
       "      <td>-10</td>\n",
       "      <td>10</td>\n",
       "      <td>-15</td>\n",
       "      <td>-6600</td>\n",
       "      <td>-17</td>\n",
       "      <td>-8</td>\n",
       "      <td>-2</td>\n",
       "      <td>-10</td>\n",
       "    </tr>\n",
       "  </tbody>\n",
       "</table>\n",
       "</div>"
      ],
      "text/plain": [
       "   FirstBlood  FirstTower  FirstBaron  FirstDragon  FirstInhibitor  \\\n",
       "0           1           0           0            0               0   \n",
       "1           1           1           0           -1               0   \n",
       "2           1           1           0           -1               0   \n",
       "3           1           1          -1           -1              -1   \n",
       "\n",
       "   dragonKills  BaronKills  TowerKills  InhibitorKills  championKills  \\\n",
       "0           -2           0           0               0              1   \n",
       "1           -4           0           2               0              1   \n",
       "2           -4           0           1               0             -3   \n",
       "3           -4          -1          -3              -1            -10   \n",
       "\n",
       "   championDeath  championAssist  totalGold  totalMinionKills  totalLevel  \\\n",
       "0             -1               2       1500                31           2   \n",
       "1             -1              -1       3000                41           1   \n",
       "2              3              -4          0                12          -2   \n",
       "3             10             -15      -6600               -17          -8   \n",
       "\n",
       "   avgLevel  killingSpree  \n",
       "0         1             0  \n",
       "1         0             1  \n",
       "2         0            -3  \n",
       "3        -2           -10  "
      ]
     },
     "execution_count": 119,
     "metadata": {},
     "output_type": "execute_result"
    }
   ],
   "source": [
    "testData = championship\n",
    "testData"
   ]
  },
  {
   "cell_type": "code",
   "execution_count": 132,
   "metadata": {},
   "outputs": [
    {
     "name": "stdout",
     "output_type": "stream",
     "text": [
      "Predicted probabilities:\n",
      "[[  3.4  96.6]\n",
      " [  7.6  92.4]\n",
      " [ 62.3  37.7]\n",
      " [100.    0. ]]\n"
     ]
    }
   ],
   "source": [
    "testpred = pipeline.named_steps['scaler'].transform(testData)\n",
    "print(\"Predicted probabilities:\\n{}\".format(reg.predict_proba(testpred).round(3)*100))"
   ]
  },
  {
   "cell_type": "code",
   "execution_count": 121,
   "metadata": {},
   "outputs": [
    {
     "data": {
      "text/plain": [
       "array([ 1,  1, -1, -1], dtype=int64)"
      ]
     },
     "execution_count": 121,
     "metadata": {},
     "output_type": "execute_result"
    }
   ],
   "source": [
    "reg.predict(testpred)"
   ]
  },
  {
   "cell_type": "code",
   "execution_count": null,
   "metadata": {},
   "outputs": [],
   "source": []
  }
 ],
 "metadata": {
  "kernelspec": {
   "display_name": "Python 3 (ipykernel)",
   "language": "python",
   "name": "python3"
  },
  "language_info": {
   "codemirror_mode": {
    "name": "ipython",
    "version": 3
   },
   "file_extension": ".py",
   "mimetype": "text/x-python",
   "name": "python",
   "nbconvert_exporter": "python",
   "pygments_lexer": "ipython3",
   "version": "3.8.5"
  },
  "toc": {
   "base_numbering": 1,
   "nav_menu": {},
   "number_sections": true,
   "sideBar": true,
   "skip_h1_title": false,
   "title_cell": "Table of Contents",
   "title_sidebar": "Contents",
   "toc_cell": false,
   "toc_position": {},
   "toc_section_display": true,
   "toc_window_display": false
  }
 },
 "nbformat": 4,
 "nbformat_minor": 4
}
